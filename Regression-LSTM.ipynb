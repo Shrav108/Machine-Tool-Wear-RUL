{
 "cells": [
  {
   "cell_type": "markdown",
   "id": "c7dd3450",
   "metadata": {},
   "source": [
    "### Import Libraries"
   ]
  },
  {
   "cell_type": "code",
   "execution_count": 1,
   "id": "7d18c4bc",
   "metadata": {},
   "outputs": [],
   "source": [
    "import tensorflow as tf\n",
    "import pandas as pd\n",
    "import matplotlib.pyplot as plt\n",
    "import numpy as np"
   ]
  },
  {
   "cell_type": "markdown",
   "id": "fb64e460",
   "metadata": {},
   "source": [
    "### Create Data"
   ]
  },
  {
   "cell_type": "code",
   "execution_count": 179,
   "id": "f30e0ea3",
   "metadata": {},
   "outputs": [],
   "source": [
    "def create_sequence(directory, number, sequence, col_num, num_set):\n",
    "    '''Creates Sequence for Regression using Deep NN.\n",
    "       Pass: Directory name, Cut Number, Sequence in Power of 2, Column to be exracted, Total Number Set.\n",
    "       Return: 3-D Array to pass into the Neural Networks'''\n",
    "    array = [] # Empty List\n",
    "    for i in range(1, 316): # There are 315 files\n",
    "        if i%10 == i:  # If i <= 9 i.e. i is a single digit number\n",
    "            f = f'00{i}'\n",
    "        elif i//10>=1 and i//10<=9: # If  i >=10 and i<=99 i.e. i is a double digit number.\n",
    "            f = f'0{i}'\n",
    "        else: # If  i >=100 and i<=999 i.e. i is a triple digit number.\n",
    "            f = f'{i}'\n",
    "        df = pd.read_csv(directory + f'c_{number}_{f}.csv', header=None) # Read CSV\n",
    "        x = np.array(df[col_num]) # Extract the Column\n",
    "        x = (x - np.mean(x))/np.std(x) # Z Normalize\n",
    "        li = [] # Empty List to store 2-D nested List.\n",
    "        l = []\n",
    "        for k in range(2000):\n",
    "            y = x[k*50: (k+1)*50]\n",
    "            l.append(np.average(y))\n",
    "        l = np.asarray(l)\n",
    "        l = np.expand_dims(l, axis=0)\n",
    "#         print(l.shape)\n",
    "        # Create Sequence\n",
    "#         for j in range(0, num_set):\n",
    "#             if j==0:\n",
    "#                 li.append(x[j*sequence:(j+1)*sequence]) # Append Sliced set to array\n",
    "#             else:\n",
    "#                 li.append(x[j*sequence-1:(j+1)*sequence-1]) # Append Sliced set to array\n",
    "#         li = np.asarray(li) # Convert to 2-D Array\n",
    "#         li = np.expand_dims(li, axis=1)\n",
    "        array.append(l) # Append to Array for final 3-D\n",
    "        \n",
    "    array = np.asarray(array) # Convert to Array 3-D\n",
    "#     print(array.shape)\n",
    "    return array # Return"
   ]
  },
  {
   "cell_type": "code",
   "execution_count": 180,
   "id": "c4122b98",
   "metadata": {},
   "outputs": [],
   "source": [
    "cut_1 = create_sequence(directory='C:/Users/MNTM/Desktop/Tool Wear/C1/', number='1', sequence=1024, col_num=0, num_set=40) # Call"
   ]
  },
  {
   "cell_type": "code",
   "execution_count": 181,
   "id": "df9837fa",
   "metadata": {},
   "outputs": [],
   "source": [
    "cut_2 = create_sequence(directory='C:/Users/MNTM/Desktop/Tool Wear/C4/', number='4', sequence=1024, col_num=0, num_set=40) # Call"
   ]
  },
  {
   "cell_type": "code",
   "execution_count": 182,
   "id": "cbe5a53f",
   "metadata": {},
   "outputs": [],
   "source": [
    "cut_3 = create_sequence(directory='C:/Users/MNTM/Desktop/Tool Wear/C6/', number='6', sequence=1024, col_num=0, num_set=40) # Call"
   ]
  },
  {
   "cell_type": "code",
   "execution_count": 183,
   "id": "ae625078",
   "metadata": {},
   "outputs": [
    {
     "name": "stdout",
     "output_type": "stream",
     "text": [
      "Cut 1 shape: (315, 1, 2000)\n",
      "Cut 2 shape: (315, 1, 2000)\n",
      "Cut 3 shape: (315, 1, 2000)\n"
     ]
    }
   ],
   "source": [
    "print('Cut 1 shape:', cut_1.shape) # Print Shape\n",
    "print('Cut 2 shape:', cut_2.shape) # Print Shape\n",
    "print('Cut 3 shape:', cut_3.shape) # Print Shape"
   ]
  },
  {
   "cell_type": "code",
   "execution_count": null,
   "id": "7bf995c9",
   "metadata": {},
   "outputs": [],
   "source": []
  },
  {
   "cell_type": "code",
   "execution_count": 184,
   "id": "c1a419ee",
   "metadata": {},
   "outputs": [
    {
     "data": {
      "text/html": [
       "<div>\n",
       "<style scoped>\n",
       "    .dataframe tbody tr th:only-of-type {\n",
       "        vertical-align: middle;\n",
       "    }\n",
       "\n",
       "    .dataframe tbody tr th {\n",
       "        vertical-align: top;\n",
       "    }\n",
       "\n",
       "    .dataframe thead th {\n",
       "        text-align: right;\n",
       "    }\n",
       "</style>\n",
       "<table border=\"1\" class=\"dataframe\">\n",
       "  <thead>\n",
       "    <tr style=\"text-align: right;\">\n",
       "      <th></th>\n",
       "      <th>flute_1</th>\n",
       "      <th>flute_2</th>\n",
       "      <th>flute_3</th>\n",
       "      <th>Max. Wear</th>\n",
       "    </tr>\n",
       "  </thead>\n",
       "  <tbody>\n",
       "    <tr>\n",
       "      <th>0</th>\n",
       "      <td>32.317114</td>\n",
       "      <td>48.892617</td>\n",
       "      <td>37.720825</td>\n",
       "      <td>48.892617</td>\n",
       "    </tr>\n",
       "    <tr>\n",
       "      <th>1</th>\n",
       "      <td>37.914879</td>\n",
       "      <td>49.570815</td>\n",
       "      <td>37.720825</td>\n",
       "      <td>49.570815</td>\n",
       "    </tr>\n",
       "    <tr>\n",
       "      <th>2</th>\n",
       "      <td>43.087910</td>\n",
       "      <td>50.302867</td>\n",
       "      <td>37.720825</td>\n",
       "      <td>50.302867</td>\n",
       "    </tr>\n",
       "    <tr>\n",
       "      <th>3</th>\n",
       "      <td>47.859072</td>\n",
       "      <td>51.083652</td>\n",
       "      <td>37.849851</td>\n",
       "      <td>51.083652</td>\n",
       "    </tr>\n",
       "    <tr>\n",
       "      <th>4</th>\n",
       "      <td>52.250329</td>\n",
       "      <td>51.908288</td>\n",
       "      <td>38.172665</td>\n",
       "      <td>52.250329</td>\n",
       "    </tr>\n",
       "  </tbody>\n",
       "</table>\n",
       "</div>"
      ],
      "text/plain": [
       "     flute_1    flute_2    flute_3  Max. Wear\n",
       "0  32.317114  48.892617  37.720825  48.892617\n",
       "1  37.914879  49.570815  37.720825  49.570815\n",
       "2  43.087910  50.302867  37.720825  50.302867\n",
       "3  47.859072  51.083652  37.849851  51.083652\n",
       "4  52.250329  51.908288  38.172665  52.250329"
      ]
     },
     "execution_count": 184,
     "metadata": {},
     "output_type": "execute_result"
    }
   ],
   "source": [
    "wear_c1 = pd.read_csv('C:/Users/MNTM/Desktop/Tool Wear/C1/c1_wear.csv') # Read CSV\n",
    "wear_c1 = wear_c1.drop(labels=['cut'], axis = 1) # Drop the Cut Column\n",
    "wear_c1['Max. Wear'] = wear_c1.max(axis = 1) # Find the Maximum of the three flutes wear in microns.\n",
    "cut_1_wear = np.array(wear_c1['Max. Wear']) # Get the Maximum Wear as Array\n",
    "wear_c1.head() # Read dataframes"
   ]
  },
  {
   "cell_type": "code",
   "execution_count": 185,
   "id": "5bc18cf4",
   "metadata": {},
   "outputs": [
    {
     "data": {
      "text/html": [
       "<div>\n",
       "<style scoped>\n",
       "    .dataframe tbody tr th:only-of-type {\n",
       "        vertical-align: middle;\n",
       "    }\n",
       "\n",
       "    .dataframe tbody tr th {\n",
       "        vertical-align: top;\n",
       "    }\n",
       "\n",
       "    .dataframe thead th {\n",
       "        text-align: right;\n",
       "    }\n",
       "</style>\n",
       "<table border=\"1\" class=\"dataframe\">\n",
       "  <thead>\n",
       "    <tr style=\"text-align: right;\">\n",
       "      <th></th>\n",
       "      <th>flute_1</th>\n",
       "      <th>flute_2</th>\n",
       "      <th>flute_3</th>\n",
       "      <th>Max. Wear</th>\n",
       "    </tr>\n",
       "  </thead>\n",
       "  <tbody>\n",
       "    <tr>\n",
       "      <th>0</th>\n",
       "      <td>31.416355</td>\n",
       "      <td>19.483692</td>\n",
       "      <td>21.748063</td>\n",
       "      <td>31.416355</td>\n",
       "    </tr>\n",
       "    <tr>\n",
       "      <th>1</th>\n",
       "      <td>34.892770</td>\n",
       "      <td>23.473047</td>\n",
       "      <td>24.925960</td>\n",
       "      <td>34.892770</td>\n",
       "    </tr>\n",
       "    <tr>\n",
       "      <th>2</th>\n",
       "      <td>38.102847</td>\n",
       "      <td>27.172868</td>\n",
       "      <td>27.898659</td>\n",
       "      <td>38.102847</td>\n",
       "    </tr>\n",
       "    <tr>\n",
       "      <th>3</th>\n",
       "      <td>41.061023</td>\n",
       "      <td>30.599309</td>\n",
       "      <td>30.677848</td>\n",
       "      <td>41.061023</td>\n",
       "    </tr>\n",
       "    <tr>\n",
       "      <th>4</th>\n",
       "      <td>43.781191</td>\n",
       "      <td>33.767870</td>\n",
       "      <td>33.274721</td>\n",
       "      <td>43.781191</td>\n",
       "    </tr>\n",
       "  </tbody>\n",
       "</table>\n",
       "</div>"
      ],
      "text/plain": [
       "     flute_1    flute_2    flute_3  Max. Wear\n",
       "0  31.416355  19.483692  21.748063  31.416355\n",
       "1  34.892770  23.473047  24.925960  34.892770\n",
       "2  38.102847  27.172868  27.898659  38.102847\n",
       "3  41.061023  30.599309  30.677848  41.061023\n",
       "4  43.781191  33.767870  33.274721  43.781191"
      ]
     },
     "execution_count": 185,
     "metadata": {},
     "output_type": "execute_result"
    }
   ],
   "source": [
    "wear_c4 = pd.read_csv('C:/Users/MNTM/Desktop/Tool Wear/C4/c4_wear.csv') # Read CSV\n",
    "wear_c4 = wear_c4.drop(labels=['cut'], axis = 1) # Drop the Cut Column\n",
    "wear_c4['Max. Wear'] = wear_c4.max(axis = 1) # Find the Maximum of the three flutes wear in microns.\n",
    "cut_4_wear = np.array(wear_c4['Max. Wear']) # Get the Maximum Wear as Array\n",
    "wear_c4.head() # Read dataframes"
   ]
  },
  {
   "cell_type": "code",
   "execution_count": 186,
   "id": "09e33a90",
   "metadata": {},
   "outputs": [
    {
     "data": {
      "text/html": [
       "<div>\n",
       "<style scoped>\n",
       "    .dataframe tbody tr th:only-of-type {\n",
       "        vertical-align: middle;\n",
       "    }\n",
       "\n",
       "    .dataframe tbody tr th {\n",
       "        vertical-align: top;\n",
       "    }\n",
       "\n",
       "    .dataframe thead th {\n",
       "        text-align: right;\n",
       "    }\n",
       "</style>\n",
       "<table border=\"1\" class=\"dataframe\">\n",
       "  <thead>\n",
       "    <tr style=\"text-align: right;\">\n",
       "      <th></th>\n",
       "      <th>flute_1</th>\n",
       "      <th>flute_2</th>\n",
       "      <th>flute_3</th>\n",
       "      <th>Max. Wear</th>\n",
       "    </tr>\n",
       "  </thead>\n",
       "  <tbody>\n",
       "    <tr>\n",
       "      <th>0</th>\n",
       "      <td>62.788648</td>\n",
       "      <td>9.896641</td>\n",
       "      <td>14.620908</td>\n",
       "      <td>62.788648</td>\n",
       "    </tr>\n",
       "    <tr>\n",
       "      <th>1</th>\n",
       "      <td>64.136043</td>\n",
       "      <td>19.793281</td>\n",
       "      <td>29.241817</td>\n",
       "      <td>64.136043</td>\n",
       "    </tr>\n",
       "    <tr>\n",
       "      <th>2</th>\n",
       "      <td>65.365273</td>\n",
       "      <td>29.689922</td>\n",
       "      <td>43.862725</td>\n",
       "      <td>65.365273</td>\n",
       "    </tr>\n",
       "    <tr>\n",
       "      <th>3</th>\n",
       "      <td>66.486880</td>\n",
       "      <td>39.586563</td>\n",
       "      <td>58.483634</td>\n",
       "      <td>66.486880</td>\n",
       "    </tr>\n",
       "    <tr>\n",
       "      <th>4</th>\n",
       "      <td>67.510808</td>\n",
       "      <td>43.019994</td>\n",
       "      <td>59.345759</td>\n",
       "      <td>67.510808</td>\n",
       "    </tr>\n",
       "  </tbody>\n",
       "</table>\n",
       "</div>"
      ],
      "text/plain": [
       "     flute_1    flute_2    flute_3  Max. Wear\n",
       "0  62.788648   9.896641  14.620908  62.788648\n",
       "1  64.136043  19.793281  29.241817  64.136043\n",
       "2  65.365273  29.689922  43.862725  65.365273\n",
       "3  66.486880  39.586563  58.483634  66.486880\n",
       "4  67.510808  43.019994  59.345759  67.510808"
      ]
     },
     "execution_count": 186,
     "metadata": {},
     "output_type": "execute_result"
    }
   ],
   "source": [
    "wear_c6 = pd.read_csv('C:/Users/MNTM/Desktop/Tool Wear/C6/c6_wear.csv') # Read CSV\n",
    "wear_c6 = wear_c6.drop(labels=['cut'], axis = 1) # Drop the Cut Column\n",
    "wear_c6['Max. Wear'] = wear_c6.max(axis = 1) # Find the Maximum of the three flutes wear in microns.\n",
    "cut_6_wear = np.array(wear_c6['Max. Wear']) # Get the Maximum Wear as Array\n",
    "wear_c6.head() # Read dataframes"
   ]
  },
  {
   "cell_type": "code",
   "execution_count": 187,
   "id": "535f4603",
   "metadata": {},
   "outputs": [
    {
     "name": "stdout",
     "output_type": "stream",
     "text": [
      "Wear 1 Shape: (315,)\n",
      "Wear 4 Shape: (315,)\n",
      "Wear 6 Shape: (315,)\n"
     ]
    }
   ],
   "source": [
    "print('Wear 1 Shape:', cut_1_wear.shape) # Print Shapes\n",
    "print('Wear 4 Shape:', cut_4_wear.shape) # Print Shapes\n",
    "print('Wear 6 Shape:', cut_6_wear.shape) # Print Shapes"
   ]
  },
  {
   "cell_type": "code",
   "execution_count": 188,
   "id": "85d42e4d",
   "metadata": {},
   "outputs": [],
   "source": [
    "trainX_1 = np.concatenate((cut_1, cut_2), axis=0) # Concatenate Train Features\n",
    "testX_1 = cut_3 # Test Set Features\n",
    "trainY_1 = np.concatenate((cut_1_wear, cut_4_wear), axis=0) # COncatenate Train Labels\n",
    "testY_1 = cut_6_wear # Test Set Labels"
   ]
  },
  {
   "cell_type": "code",
   "execution_count": 189,
   "id": "df8faf67",
   "metadata": {},
   "outputs": [],
   "source": [
    "trainX_2 = np.concatenate((cut_1, cut_3), axis=0) # Concatenate Train Features\n",
    "testX_2 = cut_2 # Test Set Features\n",
    "trainY_2 = np.concatenate((cut_1_wear, cut_6_wear), axis=0) # COncatenate Train Labels\n",
    "testY_2 = cut_4_wear # Test Set Labels"
   ]
  },
  {
   "cell_type": "code",
   "execution_count": 190,
   "id": "fb09947a",
   "metadata": {},
   "outputs": [],
   "source": [
    "trainX_3 = np.concatenate((cut_2, cut_3), axis=0) # Concatenate Train Features\n",
    "testX_3 = cut_1 # Test Set Features \n",
    "trainY_3 = np.concatenate((cut_4_wear, cut_6_wear), axis=0) # COncatenate Train Labels\n",
    "testY_3 = cut_1_wear # Test Set Labels"
   ]
  },
  {
   "cell_type": "code",
   "execution_count": 191,
   "id": "07db30ea",
   "metadata": {},
   "outputs": [
    {
     "name": "stdout",
     "output_type": "stream",
     "text": [
      "TrainX Shape: (630, 1, 2000)\n",
      "TestX Shape: (315, 1, 2000)\n",
      "TrainY Shape: (630,)\n",
      "TestY Shape: (315,)\n"
     ]
    }
   ],
   "source": [
    "print('TrainX Shape:', trainX_1.shape)\n",
    "print('TestX Shape:', testX_1.shape)\n",
    "print('TrainY Shape:', trainY_1.shape)\n",
    "print('TestY Shape:', testY_1.shape)"
   ]
  },
  {
   "cell_type": "markdown",
   "id": "8a63ab04",
   "metadata": {},
   "source": [
    "### Model"
   ]
  },
  {
   "cell_type": "code",
   "execution_count": 192,
   "id": "002794dc",
   "metadata": {},
   "outputs": [],
   "source": [
    "model = tf.keras.Sequential(name='LSTM_TOOL_WEAR_PREDICTOR') # Sequential Model\n",
    "model.add(tf.keras.layers.InputLayer(input_shape=(trainX_1.shape[1], trainX_1.shape[2]), name='input_layer')) # Input Layer\n",
    "model.add(tf.keras.layers.LSTM(256, return_sequences=True, name='LSTM_1')) # LSTM Layer\n",
    "model.add(tf.keras.layers.Dropout(0.1, name='DROPOUT_1')) # Dropout Layer\n",
    "model.add(tf.keras.layers.LSTM(256, return_sequences=True, name='LSTM_2')) # LSTM Layer\n",
    "model.add(tf.keras.layers.Dropout(0.2, name='DROPOUT_2')) # Dropout Layer\n",
    "model.add(tf.keras.layers.LSTM(256, return_sequences=True, name='LSTM_3')) # LSTM Layer\n",
    "model.add(tf.keras.layers.Dropout(0.2, name='DROPOUT_3')) # Dropout Later\n",
    "model.add(tf.keras.layers.Flatten(name='Flatten')) # Flatten Layer\n",
    "model.add(tf.keras.layers.Dense(units=32, activation='relu', name='Dense_1')) # Dense Layer\n",
    "model.add(tf.keras.layers.Dropout(0.2, name='Dropout_4')) # Dropout Layer\n",
    "model.add(tf.keras.layers.Dense(units=8, activation='relu', name='Dense_2')) # Dense Layerr\n",
    "model.add(tf.keras.layers.Dense(units=1, name='Predictor')) # Dense Layer"
   ]
  },
  {
   "cell_type": "code",
   "execution_count": 193,
   "id": "d94d6b7f",
   "metadata": {},
   "outputs": [
    {
     "name": "stdout",
     "output_type": "stream",
     "text": [
      "Model: \"LSTM_TOOL_WEAR_PREDICTOR\"\n",
      "_________________________________________________________________\n",
      "Layer (type)                 Output Shape              Param #   \n",
      "=================================================================\n",
      "LSTM_1 (LSTM)                (None, 1, 256)            2311168   \n",
      "_________________________________________________________________\n",
      "DROPOUT_1 (Dropout)          (None, 1, 256)            0         \n",
      "_________________________________________________________________\n",
      "LSTM_2 (LSTM)                (None, 1, 256)            525312    \n",
      "_________________________________________________________________\n",
      "DROPOUT_2 (Dropout)          (None, 1, 256)            0         \n",
      "_________________________________________________________________\n",
      "LSTM_3 (LSTM)                (None, 1, 256)            525312    \n",
      "_________________________________________________________________\n",
      "DROPOUT_3 (Dropout)          (None, 1, 256)            0         \n",
      "_________________________________________________________________\n",
      "Flatten (Flatten)            (None, 256)               0         \n",
      "_________________________________________________________________\n",
      "Dense_1 (Dense)              (None, 32)                8224      \n",
      "_________________________________________________________________\n",
      "Dropout_4 (Dropout)          (None, 32)                0         \n",
      "_________________________________________________________________\n",
      "Dense_2 (Dense)              (None, 8)                 264       \n",
      "_________________________________________________________________\n",
      "Predictor (Dense)            (None, 1)                 9         \n",
      "=================================================================\n",
      "Total params: 3,370,289\n",
      "Trainable params: 3,370,289\n",
      "Non-trainable params: 0\n",
      "_________________________________________________________________\n"
     ]
    }
   ],
   "source": [
    "model.summary()"
   ]
  },
  {
   "cell_type": "code",
   "execution_count": 194,
   "id": "f1c378dd",
   "metadata": {},
   "outputs": [],
   "source": [
    "class RMSE(tf.keras.losses.Loss):\n",
    "    def __init__(self):\n",
    "        super().__init__()\n",
    "    def call(self, y_true, y_pred):\n",
    "        rmse = tf.sqrt(tf.reduce_mean(tf.math.squared_difference(y_pred, y_true)))\n",
    "        return rmse"
   ]
  },
  {
   "cell_type": "code",
   "execution_count": 195,
   "id": "c77a95bb",
   "metadata": {},
   "outputs": [],
   "source": [
    "model.compile(optimizer=tf.keras.optimizers.Adam(), loss=RMSE())"
   ]
  },
  {
   "cell_type": "code",
   "execution_count": 196,
   "id": "b1dd0456",
   "metadata": {
    "scrolled": true
   },
   "outputs": [
    {
     "name": "stdout",
     "output_type": "stream",
     "text": [
      "Epoch 1/75\n",
      "20/20 [==============================] - 5s 27ms/step - loss: 112.8149\n",
      "Epoch 2/75\n",
      "20/20 [==============================] - 1s 27ms/step - loss: 88.1858\n",
      "Epoch 3/75\n",
      "20/20 [==============================] - 1s 28ms/step - loss: 54.6149\n",
      "Epoch 4/75\n",
      "20/20 [==============================] - 1s 27ms/step - loss: 39.5575\n",
      "Epoch 5/75\n",
      "20/20 [==============================] - 1s 26ms/step - loss: 37.9238\n",
      "Epoch 6/75\n",
      "20/20 [==============================] - 1s 27ms/step - loss: 36.1042\n",
      "Epoch 7/75\n",
      "20/20 [==============================] - 1s 27ms/step - loss: 36.6694\n",
      "Epoch 8/75\n",
      "20/20 [==============================] - 1s 27ms/step - loss: 36.7215\n",
      "Epoch 9/75\n",
      "20/20 [==============================] - 1s 28ms/step - loss: 31.6302\n",
      "Epoch 10/75\n",
      "20/20 [==============================] - 1s 28ms/step - loss: 25.4898\n",
      "Epoch 11/75\n",
      "20/20 [==============================] - 1s 27ms/step - loss: 25.8780\n",
      "Epoch 12/75\n",
      "20/20 [==============================] - 1s 27ms/step - loss: 25.1297\n",
      "Epoch 13/75\n",
      "20/20 [==============================] - 1s 27ms/step - loss: 23.4458\n",
      "Epoch 14/75\n",
      "20/20 [==============================] - 1s 26ms/step - loss: 23.5112\n",
      "Epoch 15/75\n",
      "20/20 [==============================] - 1s 29ms/step - loss: 24.6405\n",
      "Epoch 16/75\n",
      "20/20 [==============================] - 1s 27ms/step - loss: 22.2784\n",
      "Epoch 17/75\n",
      "20/20 [==============================] - 1s 27ms/step - loss: 22.6851\n",
      "Epoch 18/75\n",
      "20/20 [==============================] - 1s 27ms/step - loss: 22.5425\n",
      "Epoch 19/75\n",
      "20/20 [==============================] - 1s 27ms/step - loss: 22.1882\n",
      "Epoch 20/75\n",
      "20/20 [==============================] - 1s 27ms/step - loss: 21.1979\n",
      "Epoch 21/75\n",
      "20/20 [==============================] - 1s 27ms/step - loss: 22.0359\n",
      "Epoch 22/75\n",
      "20/20 [==============================] - 1s 27ms/step - loss: 19.7780\n",
      "Epoch 23/75\n",
      "20/20 [==============================] - 1s 27ms/step - loss: 20.7308\n",
      "Epoch 24/75\n",
      "20/20 [==============================] - 1s 27ms/step - loss: 20.6080\n",
      "Epoch 25/75\n",
      "20/20 [==============================] - 1s 28ms/step - loss: 20.4189\n",
      "Epoch 26/75\n",
      "20/20 [==============================] - 1s 27ms/step - loss: 19.3907\n",
      "Epoch 27/75\n",
      "20/20 [==============================] - 1s 27ms/step - loss: 21.4213\n",
      "Epoch 28/75\n",
      "20/20 [==============================] - 1s 27ms/step - loss: 18.8787\n",
      "Epoch 29/75\n",
      "20/20 [==============================] - 1s 27ms/step - loss: 19.6608\n",
      "Epoch 30/75\n",
      "20/20 [==============================] - 1s 28ms/step - loss: 18.8259\n",
      "Epoch 31/75\n",
      "20/20 [==============================] - 1s 27ms/step - loss: 19.4785\n",
      "Epoch 32/75\n",
      "20/20 [==============================] - 1s 27ms/step - loss: 18.2324\n",
      "Epoch 33/75\n",
      "20/20 [==============================] - 1s 27ms/step - loss: 19.1938\n",
      "Epoch 34/75\n",
      "20/20 [==============================] - 1s 27ms/step - loss: 18.6980\n",
      "Epoch 35/75\n",
      "20/20 [==============================] - 1s 26ms/step - loss: 17.6938\n",
      "Epoch 36/75\n",
      "20/20 [==============================] - 1s 27ms/step - loss: 18.2252\n",
      "Epoch 37/75\n",
      "20/20 [==============================] - 1s 27ms/step - loss: 20.8085\n",
      "Epoch 38/75\n",
      "20/20 [==============================] - 1s 27ms/step - loss: 18.2167\n",
      "Epoch 39/75\n",
      "20/20 [==============================] - 1s 27ms/step - loss: 17.7952\n",
      "Epoch 40/75\n",
      "20/20 [==============================] - 1s 28ms/step - loss: 18.4091\n",
      "Epoch 41/75\n",
      "20/20 [==============================] - 0s 24ms/step - loss: 17.9691\n",
      "Epoch 42/75\n",
      "20/20 [==============================] - 1s 26ms/step - loss: 17.9065\n",
      "Epoch 43/75\n",
      "20/20 [==============================] - 1s 25ms/step - loss: 17.7846\n",
      "Epoch 44/75\n",
      "20/20 [==============================] - 0s 24ms/step - loss: 19.0151\n",
      "Epoch 45/75\n",
      "20/20 [==============================] - 1s 25ms/step - loss: 18.9504\n",
      "Epoch 46/75\n",
      "20/20 [==============================] - 1s 26ms/step - loss: 19.1524\n",
      "Epoch 47/75\n",
      "20/20 [==============================] - 1s 25ms/step - loss: 18.5324\n",
      "Epoch 48/75\n",
      "20/20 [==============================] - 1s 26ms/step - loss: 17.9005\n",
      "Epoch 49/75\n",
      "20/20 [==============================] - 1s 26ms/step - loss: 17.8544\n",
      "Epoch 50/75\n",
      "20/20 [==============================] - 1s 27ms/step - loss: 19.6486\n",
      "Epoch 51/75\n",
      "20/20 [==============================] - 1s 27ms/step - loss: 18.9946\n",
      "Epoch 52/75\n",
      "20/20 [==============================] - 1s 28ms/step - loss: 17.9323\n",
      "Epoch 53/75\n",
      "20/20 [==============================] - 1s 28ms/step - loss: 17.8728\n",
      "Epoch 54/75\n",
      "20/20 [==============================] - 1s 27ms/step - loss: 17.6093\n",
      "Epoch 55/75\n",
      "20/20 [==============================] - 1s 27ms/step - loss: 18.1962\n",
      "Epoch 56/75\n",
      "20/20 [==============================] - 1s 27ms/step - loss: 18.6662\n",
      "Epoch 57/75\n",
      "20/20 [==============================] - 1s 27ms/step - loss: 17.7237\n",
      "Epoch 58/75\n",
      "20/20 [==============================] - 1s 27ms/step - loss: 18.5643\n",
      "Epoch 59/75\n",
      "20/20 [==============================] - 1s 28ms/step - loss: 18.1888\n",
      "Epoch 60/75\n",
      "20/20 [==============================] - 1s 27ms/step - loss: 16.0213\n",
      "Epoch 61/75\n",
      "20/20 [==============================] - 1s 28ms/step - loss: 17.1908\n",
      "Epoch 62/75\n",
      "20/20 [==============================] - 1s 27ms/step - loss: 17.3282\n",
      "Epoch 63/75\n",
      "20/20 [==============================] - 1s 27ms/step - loss: 17.2538\n",
      "Epoch 64/75\n",
      "20/20 [==============================] - 1s 27ms/step - loss: 17.6526\n",
      "Epoch 65/75\n",
      "20/20 [==============================] - 1s 27ms/step - loss: 17.6600\n",
      "Epoch 66/75\n",
      "20/20 [==============================] - 1s 27ms/step - loss: 16.7182\n",
      "Epoch 67/75\n",
      "20/20 [==============================] - 1s 27ms/step - loss: 17.2541\n",
      "Epoch 68/75\n",
      "20/20 [==============================] - 1s 27ms/step - loss: 16.1450\n",
      "Epoch 69/75\n",
      "20/20 [==============================] - 1s 27ms/step - loss: 16.5431\n",
      "Epoch 70/75\n",
      "20/20 [==============================] - 1s 27ms/step - loss: 17.1002\n",
      "Epoch 71/75\n",
      "20/20 [==============================] - 1s 27ms/step - loss: 16.9349\n",
      "Epoch 72/75\n",
      "20/20 [==============================] - 1s 27ms/step - loss: 17.7582\n",
      "Epoch 73/75\n",
      "20/20 [==============================] - 1s 27ms/step - loss: 16.4953\n",
      "Epoch 74/75\n",
      "20/20 [==============================] - 1s 27ms/step - loss: 16.4339\n",
      "Epoch 75/75\n",
      "20/20 [==============================] - 1s 27ms/step - loss: 16.5862\n"
     ]
    }
   ],
   "source": [
    "history = model.fit(trainX_1, trainY_1, epochs=75, verbose=1)"
   ]
  },
  {
   "cell_type": "code",
   "execution_count": 197,
   "id": "beb44b8e",
   "metadata": {},
   "outputs": [
    {
     "name": "stdout",
     "output_type": "stream",
     "text": [
      "10/10 [==============================] - 1s 12ms/step - loss: 114.6840\n"
     ]
    },
    {
     "data": {
      "text/plain": [
       "114.68402862548828"
      ]
     },
     "execution_count": 197,
     "metadata": {},
     "output_type": "execute_result"
    }
   ],
   "source": [
    "model.evaluate(testX_1, testX_1, verbose=1)"
   ]
  },
  {
   "cell_type": "code",
   "execution_count": 200,
   "id": "d87c4265",
   "metadata": {},
   "outputs": [
    {
     "name": "stdout",
     "output_type": "stream",
     "text": [
      "10/10 [==============================] - 0s 8ms/step\n"
     ]
    }
   ],
   "source": [
    "y = model.predict(testX_1, verbose=1)"
   ]
  },
  {
   "cell_type": "code",
   "execution_count": 201,
   "id": "3f1f3c8d",
   "metadata": {},
   "outputs": [
    {
     "data": {
      "image/png": "[encoded data removed]",
      "text/plain": [
       "<Figure size 1296x576 with 1 Axes>"
      ]
     },
     "metadata": {
      "needs_background": "light"
     },
     "output_type": "display_data"
    }
   ],
   "source": [
    "# Plot True RUL v/s Predicted RUL\n",
    "def plot_prediction():\n",
    "    plt.figure(figsize = (18, 8))\n",
    "    plt.plot(testY_1, 'red', label = 'True', linewidth=2)\n",
    "    plt.plot(y, 'green', label = 'Predicted', linestyle='-', linewidth=1)\n",
    "    plt.xlabel('Split Test Set Numbers', fontdict={'fontsize':14})\n",
    "    plt.ylabel('Wear in microns', fontdict={'fontsize':14})\n",
    "    plt.title(' Cut v/s Wear (True v/s Predicted)', fontdict={'fontsize':18})\n",
    "    plt.legend()\n",
    "    plt.grid(True)\n",
    "    plt.show()\n",
    "    return None\n",
    "\n",
    "# Call\n",
    "plot_prediction()"
   ]
  },
  {
   "cell_type": "code",
   "execution_count": null,
   "id": "0d17c188",
   "metadata": {},
   "outputs": [],
   "source": [
    "%reset"
   ]
  },
  {
   "cell_type": "code",
   "execution_count": null,
   "id": "aac71072",
   "metadata": {},
   "outputs": [],
   "source": []
  }
 ],
 "metadata": {
  "kernelspec": {
   "display_name": "Python 3 (ipykernel)",
   "language": "python",
   "name": "python3"
  },
  "language_info": {
   "codemirror_mode": {
    "name": "ipython",
    "version": 3
   },
   "file_extension": ".py",
   "mimetype": "text/x-python",
   "name": "python",
   "nbconvert_exporter": "python",
   "pygments_lexer": "ipython3",
   "version": "3.8.11"
  }
 },
 "nbformat": 4,
 "nbformat_minor": 5
}
