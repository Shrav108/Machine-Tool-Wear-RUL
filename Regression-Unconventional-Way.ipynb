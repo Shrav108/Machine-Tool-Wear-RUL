{
 "cells": [
  {
   "cell_type": "markdown",
   "id": "9c93ce15",
   "metadata": {},
   "source": [
    "### Import Libraries"
   ]
  },
  {
   "cell_type": "code",
   "execution_count": 1,
   "id": "1d82611a",
   "metadata": {},
   "outputs": [],
   "source": [
    "import tensorflow as tf\n",
    "import numpy as np\n",
    "import pandas as pd\n",
    "import matplotlib.pyplot as plt"
   ]
  },
  {
   "cell_type": "markdown",
   "id": "0404351d",
   "metadata": {},
   "source": [
    "### Create Sequence "
   ]
  },
  {
   "cell_type": "code",
   "execution_count": 52,
   "id": "61caef93",
   "metadata": {},
   "outputs": [],
   "source": [
    "def create_sequence(directory, number, sequence, col_num, num_set):\n",
    "    '''Creates Sequence for Regression using Deep NN.\n",
    "       Pass: Directory name, Cut Number, Sequence in Power of 2, Column to be exracted, Total Number Set.\n",
    "       Return: 3-D Array to pass into the Neural Networks'''\n",
    "    array = [] # Empty List\n",
    "    for i in range(1, 316): # There are 315 files\n",
    "        if i%10 == i:  # If i <= 9 i.e. i is a single digit number\n",
    "            f = f'00{i}'\n",
    "        elif i//10>=1 and i//10<=9: # If  i >=10 and i<=99 i.e. i is a double digit number.\n",
    "            f = f'0{i}'\n",
    "        else: # If  i >=100 and i<=999 i.e. i is a triple digit number.\n",
    "            f = f'{i}'\n",
    "        df = pd.read_csv(directory + f'c_{number}_{f}.csv', header=None) # Read CSV\n",
    "        df = (df-df.mean())/df.std()\n",
    "        li_set = []\n",
    "        for j in range(0,num_set):\n",
    "            li=[]\n",
    "            for k in range(0,col_num):\n",
    "                x = df[k][j*sequence:(j+1)*sequence]\n",
    "                li.extend(x)\n",
    "            li_set.append(li)\n",
    "        array.append(li_set)\n",
    "    array = np.asarray(array)\n",
    "      \n",
    "    return array # Return"
   ]
  },
  {
   "cell_type": "markdown",
   "id": "3358da41",
   "metadata": {},
   "source": [
    "#### Sequence from C1 Cut"
   ]
  },
  {
   "cell_type": "code",
   "execution_count": 53,
   "id": "40c43830",
   "metadata": {
    "scrolled": true
   },
   "outputs": [],
   "source": [
    "cut_1 = create_sequence(directory='C:/Users/MNTM/Desktop/Tool Wear/C1/', number='1', sequence=512, col_num=6, num_set=100) # Call"
   ]
  },
  {
   "cell_type": "markdown",
   "id": "3bb3e63d",
   "metadata": {},
   "source": [
    "#### Sequence from C4 Cut"
   ]
  },
  {
   "cell_type": "code",
   "execution_count": 54,
   "id": "435154bc",
   "metadata": {},
   "outputs": [],
   "source": [
    "cut_2 = create_sequence(directory='C:/Users/MNTM/Desktop/Tool Wear/C4/', number='4', sequence=512, col_num=6, num_set=100) # Call"
   ]
  },
  {
   "cell_type": "markdown",
   "id": "dd565a3f",
   "metadata": {},
   "source": [
    "#### Sequence from C6 Cut"
   ]
  },
  {
   "cell_type": "code",
   "execution_count": 55,
   "id": "d0720b07",
   "metadata": {},
   "outputs": [],
   "source": [
    "cut_3 = create_sequence(directory='C:/Users/MNTM/Desktop/Tool Wear/C6/', number='6', sequence=512, col_num=6, num_set=100) # Call"
   ]
  },
  {
   "cell_type": "code",
   "execution_count": 56,
   "id": "89b0de5c",
   "metadata": {},
   "outputs": [
    {
     "name": "stdout",
     "output_type": "stream",
     "text": [
      "Shape of cut 1: (315, 100, 3072)\n",
      "Shape of cut 2: (315, 100, 3072)\n",
      "Shape of cut 3: (315, 100, 3072)\n"
     ]
    }
   ],
   "source": [
    "print('Shape of cut 1:', cut_1.shape) # Print Shape of cut_1\n",
    "print('Shape of cut 2:', cut_2.shape) # Print Shape of cut_1\n",
    "print('Shape of cut 3:', cut_3.shape) # Print Shape of cut_1"
   ]
  },
  {
   "cell_type": "markdown",
   "id": "2f587ec7",
   "metadata": {},
   "source": [
    "#### CUT 1 Wear"
   ]
  },
  {
   "cell_type": "code",
   "execution_count": 57,
   "id": "5cfe76c5",
   "metadata": {},
   "outputs": [
    {
     "data": {
      "text/html": [
       "<div>\n",
       "<style scoped>\n",
       "    .dataframe tbody tr th:only-of-type {\n",
       "        vertical-align: middle;\n",
       "    }\n",
       "\n",
       "    .dataframe tbody tr th {\n",
       "        vertical-align: top;\n",
       "    }\n",
       "\n",
       "    .dataframe thead th {\n",
       "        text-align: right;\n",
       "    }\n",
       "</style>\n",
       "<table border=\"1\" class=\"dataframe\">\n",
       "  <thead>\n",
       "    <tr style=\"text-align: right;\">\n",
       "      <th></th>\n",
       "      <th>flute_1</th>\n",
       "      <th>flute_2</th>\n",
       "      <th>flute_3</th>\n",
       "      <th>Max. Wear</th>\n",
       "    </tr>\n",
       "  </thead>\n",
       "  <tbody>\n",
       "    <tr>\n",
       "      <th>0</th>\n",
       "      <td>32.317114</td>\n",
       "      <td>48.892617</td>\n",
       "      <td>37.720825</td>\n",
       "      <td>48.892617</td>\n",
       "    </tr>\n",
       "    <tr>\n",
       "      <th>1</th>\n",
       "      <td>37.914879</td>\n",
       "      <td>49.570815</td>\n",
       "      <td>37.720825</td>\n",
       "      <td>49.570815</td>\n",
       "    </tr>\n",
       "    <tr>\n",
       "      <th>2</th>\n",
       "      <td>43.087910</td>\n",
       "      <td>50.302867</td>\n",
       "      <td>37.720825</td>\n",
       "      <td>50.302867</td>\n",
       "    </tr>\n",
       "    <tr>\n",
       "      <th>3</th>\n",
       "      <td>47.859072</td>\n",
       "      <td>51.083652</td>\n",
       "      <td>37.849851</td>\n",
       "      <td>51.083652</td>\n",
       "    </tr>\n",
       "    <tr>\n",
       "      <th>4</th>\n",
       "      <td>52.250329</td>\n",
       "      <td>51.908288</td>\n",
       "      <td>38.172665</td>\n",
       "      <td>52.250329</td>\n",
       "    </tr>\n",
       "  </tbody>\n",
       "</table>\n",
       "</div>"
      ],
      "text/plain": [
       "     flute_1    flute_2    flute_3  Max. Wear\n",
       "0  32.317114  48.892617  37.720825  48.892617\n",
       "1  37.914879  49.570815  37.720825  49.570815\n",
       "2  43.087910  50.302867  37.720825  50.302867\n",
       "3  47.859072  51.083652  37.849851  51.083652\n",
       "4  52.250329  51.908288  38.172665  52.250329"
      ]
     },
     "execution_count": 57,
     "metadata": {},
     "output_type": "execute_result"
    }
   ],
   "source": [
    "wear_c1 = pd.read_csv('C:/Users/MNTM/Desktop/Tool Wear/C1/c1_wear.csv') # Read CSV\n",
    "wear_c1 = wear_c1.drop(labels=['cut'], axis = 1) # Drop the Cut Column\n",
    "wear_c1['Max. Wear'] = wear_c1.max(axis = 1) # Find the Maximum of the three flutes wear in microns.\n",
    "cut_1_wear = np.array(wear_c1['Max. Wear']) # Get the Maximum Wear as Array\n",
    "wear_c1.head() # Read dataframes"
   ]
  },
  {
   "cell_type": "markdown",
   "id": "9850bfd7",
   "metadata": {},
   "source": [
    "#### CUT 4 Wear"
   ]
  },
  {
   "cell_type": "code",
   "execution_count": 58,
   "id": "c7e0c427",
   "metadata": {},
   "outputs": [
    {
     "data": {
      "text/html": [
       "<div>\n",
       "<style scoped>\n",
       "    .dataframe tbody tr th:only-of-type {\n",
       "        vertical-align: middle;\n",
       "    }\n",
       "\n",
       "    .dataframe tbody tr th {\n",
       "        vertical-align: top;\n",
       "    }\n",
       "\n",
       "    .dataframe thead th {\n",
       "        text-align: right;\n",
       "    }\n",
       "</style>\n",
       "<table border=\"1\" class=\"dataframe\">\n",
       "  <thead>\n",
       "    <tr style=\"text-align: right;\">\n",
       "      <th></th>\n",
       "      <th>flute_1</th>\n",
       "      <th>flute_2</th>\n",
       "      <th>flute_3</th>\n",
       "      <th>Max. Wear</th>\n",
       "    </tr>\n",
       "  </thead>\n",
       "  <tbody>\n",
       "    <tr>\n",
       "      <th>0</th>\n",
       "      <td>31.416355</td>\n",
       "      <td>19.483692</td>\n",
       "      <td>21.748063</td>\n",
       "      <td>31.416355</td>\n",
       "    </tr>\n",
       "    <tr>\n",
       "      <th>1</th>\n",
       "      <td>34.892770</td>\n",
       "      <td>23.473047</td>\n",
       "      <td>24.925960</td>\n",
       "      <td>34.892770</td>\n",
       "    </tr>\n",
       "    <tr>\n",
       "      <th>2</th>\n",
       "      <td>38.102847</td>\n",
       "      <td>27.172868</td>\n",
       "      <td>27.898659</td>\n",
       "      <td>38.102847</td>\n",
       "    </tr>\n",
       "    <tr>\n",
       "      <th>3</th>\n",
       "      <td>41.061023</td>\n",
       "      <td>30.599309</td>\n",
       "      <td>30.677848</td>\n",
       "      <td>41.061023</td>\n",
       "    </tr>\n",
       "    <tr>\n",
       "      <th>4</th>\n",
       "      <td>43.781191</td>\n",
       "      <td>33.767870</td>\n",
       "      <td>33.274721</td>\n",
       "      <td>43.781191</td>\n",
       "    </tr>\n",
       "  </tbody>\n",
       "</table>\n",
       "</div>"
      ],
      "text/plain": [
       "     flute_1    flute_2    flute_3  Max. Wear\n",
       "0  31.416355  19.483692  21.748063  31.416355\n",
       "1  34.892770  23.473047  24.925960  34.892770\n",
       "2  38.102847  27.172868  27.898659  38.102847\n",
       "3  41.061023  30.599309  30.677848  41.061023\n",
       "4  43.781191  33.767870  33.274721  43.781191"
      ]
     },
     "execution_count": 58,
     "metadata": {},
     "output_type": "execute_result"
    }
   ],
   "source": [
    "wear_c4 = pd.read_csv('C:/Users/MNTM/Desktop/Tool Wear/C4/c4_wear.csv') # Read CSV\n",
    "wear_c4 = wear_c4.drop(labels=['cut'], axis = 1) # Drop the Cut Column\n",
    "wear_c4['Max. Wear'] = wear_c4.max(axis = 1) # Find the Maximum of the three flutes wear in microns.\n",
    "cut_4_wear = np.array(wear_c4['Max. Wear']) # Get the Maximum Wear as Array\n",
    "wear_c4.head() # Read dataframes"
   ]
  },
  {
   "cell_type": "markdown",
   "id": "525c5abf",
   "metadata": {},
   "source": [
    "#### CUT 6 Wear"
   ]
  },
  {
   "cell_type": "code",
   "execution_count": 59,
   "id": "2197cb0a",
   "metadata": {},
   "outputs": [
    {
     "data": {
      "text/html": [
       "<div>\n",
       "<style scoped>\n",
       "    .dataframe tbody tr th:only-of-type {\n",
       "        vertical-align: middle;\n",
       "    }\n",
       "\n",
       "    .dataframe tbody tr th {\n",
       "        vertical-align: top;\n",
       "    }\n",
       "\n",
       "    .dataframe thead th {\n",
       "        text-align: right;\n",
       "    }\n",
       "</style>\n",
       "<table border=\"1\" class=\"dataframe\">\n",
       "  <thead>\n",
       "    <tr style=\"text-align: right;\">\n",
       "      <th></th>\n",
       "      <th>flute_1</th>\n",
       "      <th>flute_2</th>\n",
       "      <th>flute_3</th>\n",
       "      <th>Max. Wear</th>\n",
       "    </tr>\n",
       "  </thead>\n",
       "  <tbody>\n",
       "    <tr>\n",
       "      <th>0</th>\n",
       "      <td>62.788648</td>\n",
       "      <td>9.896641</td>\n",
       "      <td>14.620908</td>\n",
       "      <td>62.788648</td>\n",
       "    </tr>\n",
       "    <tr>\n",
       "      <th>1</th>\n",
       "      <td>64.136043</td>\n",
       "      <td>19.793281</td>\n",
       "      <td>29.241817</td>\n",
       "      <td>64.136043</td>\n",
       "    </tr>\n",
       "    <tr>\n",
       "      <th>2</th>\n",
       "      <td>65.365273</td>\n",
       "      <td>29.689922</td>\n",
       "      <td>43.862725</td>\n",
       "      <td>65.365273</td>\n",
       "    </tr>\n",
       "    <tr>\n",
       "      <th>3</th>\n",
       "      <td>66.486880</td>\n",
       "      <td>39.586563</td>\n",
       "      <td>58.483634</td>\n",
       "      <td>66.486880</td>\n",
       "    </tr>\n",
       "    <tr>\n",
       "      <th>4</th>\n",
       "      <td>67.510808</td>\n",
       "      <td>43.019994</td>\n",
       "      <td>59.345759</td>\n",
       "      <td>67.510808</td>\n",
       "    </tr>\n",
       "  </tbody>\n",
       "</table>\n",
       "</div>"
      ],
      "text/plain": [
       "     flute_1    flute_2    flute_3  Max. Wear\n",
       "0  62.788648   9.896641  14.620908  62.788648\n",
       "1  64.136043  19.793281  29.241817  64.136043\n",
       "2  65.365273  29.689922  43.862725  65.365273\n",
       "3  66.486880  39.586563  58.483634  66.486880\n",
       "4  67.510808  43.019994  59.345759  67.510808"
      ]
     },
     "execution_count": 59,
     "metadata": {},
     "output_type": "execute_result"
    }
   ],
   "source": [
    "wear_c6 = pd.read_csv('C:/Users/MNTM/Desktop/Tool Wear/C6/c6_wear.csv') # Read CSV\n",
    "wear_c6 = wear_c6.drop(labels=['cut'], axis = 1) # Drop the Cut Column\n",
    "wear_c6['Max. Wear'] = wear_c6.max(axis = 1) # Find the Maximum of the three flutes wear in microns.\n",
    "cut_6_wear = np.array(wear_c6['Max. Wear']) # Get the Maximum Wear as Array\n",
    "wear_c6.head() # Read dataframes"
   ]
  },
  {
   "cell_type": "code",
   "execution_count": 60,
   "id": "dc7be6a4",
   "metadata": {},
   "outputs": [
    {
     "name": "stdout",
     "output_type": "stream",
     "text": [
      "Wear 1 Shape: (315,)\n",
      "Wear 4 Shape: (315,)\n",
      "Wear 6 Shape: (315,)\n"
     ]
    }
   ],
   "source": [
    "print('Wear 1 Shape:', cut_1_wear.shape) # Print Shapes\n",
    "print('Wear 4 Shape:', cut_4_wear.shape) # Print Shapes\n",
    "print('Wear 6 Shape:', cut_6_wear.shape) # Print Shapes"
   ]
  },
  {
   "cell_type": "code",
   "execution_count": null,
   "id": "b98ce8da",
   "metadata": {},
   "outputs": [],
   "source": []
  },
  {
   "cell_type": "markdown",
   "id": "d9de3b7c",
   "metadata": {},
   "source": [
    "### Train-Test Set"
   ]
  },
  {
   "cell_type": "markdown",
   "id": "70f5791e",
   "metadata": {},
   "source": [
    "#### Train-Test with C1-C4 and C6"
   ]
  },
  {
   "cell_type": "code",
   "execution_count": 61,
   "id": "246ee00c",
   "metadata": {},
   "outputs": [],
   "source": [
    "trainX_1 = np.concatenate((cut_1, cut_2), axis=0) # Concatenate Train Features\n",
    "testX_1 = cut_3 # Test Set Features\n",
    "trainY_1 = np.concatenate((cut_1_wear, cut_4_wear), axis=0) # COncatenate Train Labels\n",
    "testY_1 = cut_6_wear # Test Set Labels"
   ]
  },
  {
   "cell_type": "markdown",
   "id": "357cec3a",
   "metadata": {},
   "source": [
    "#### Train-Test with C1-C6 and C4"
   ]
  },
  {
   "cell_type": "code",
   "execution_count": 62,
   "id": "8daee058",
   "metadata": {},
   "outputs": [],
   "source": [
    "trainX_2 = np.concatenate((cut_1, cut_3), axis=0) # Concatenate Train Features\n",
    "testX_2 = cut_2 # Test Set Features\n",
    "trainY_2 = np.concatenate((cut_1_wear, cut_6_wear), axis=0) # COncatenate Train Labels\n",
    "testY_2 = cut_4_wear # Test Set Labels"
   ]
  },
  {
   "cell_type": "markdown",
   "id": "71e89624",
   "metadata": {},
   "source": [
    "#### Train-Test with C4-C6 and C1"
   ]
  },
  {
   "cell_type": "code",
   "execution_count": 63,
   "id": "7f15cb89",
   "metadata": {},
   "outputs": [],
   "source": [
    "trainX_3 = np.concatenate((cut_2, cut_3), axis=0) # Concatenate Train Features\n",
    "testX_3 = cut_1 # Test Set Features \n",
    "trainY_3 = np.concatenate((cut_4_wear, cut_6_wear), axis=0) # COncatenate Train Labels\n",
    "testY_3 = cut_1_wear # Test Set Labels"
   ]
  },
  {
   "cell_type": "markdown",
   "id": "f233252a",
   "metadata": {},
   "source": [
    "### CNN-GRU Model"
   ]
  },
  {
   "cell_type": "code",
   "execution_count": 64,
   "id": "9a9ec74c",
   "metadata": {},
   "outputs": [],
   "source": [
    "def convolution_layer_1(inputs, kernel_size, layer):\n",
    "    '''Makes the Convolution Layer.\n",
    "       Pass: Inputs, Kernel Size as tuple, Layer Number.\n",
    "       Return: Final output'''\n",
    "    conv_1 = tf.keras.layers.Conv1D(filters=32, kernel_size=kernel_size, padding='same', activation='relu', name=f'Conv1D_{layer}_1')(inputs) # Convolution Layer 1D\n",
    "    bn_1   = tf.keras.layers.BatchNormalization(name=f'BN_{layer}_1')(conv_1)   # Batch Normalisation\n",
    "    conv_2 = tf.keras.layers.Conv1D(filters=32, kernel_size=kernel_size, padding='same', activation='relu', name=f'Conv1D_{layer}_2')(bn_1)   # Convolution Layer 1D\n",
    "    bn_2   = tf.keras.layers.BatchNormalization(name=f'BN_{layer}_2')(conv_2)   # Batch Normalisation\n",
    "    pool_1 = tf.keras.layers.MaxPool1D(pool_size=2, padding='same', strides=1, name=f'Pool_{layer}')(bn_2) # Max Pooling\n",
    "    \n",
    "    return pool_1 # Return"
   ]
  },
  {
   "cell_type": "code",
   "execution_count": 65,
   "id": "9025f088",
   "metadata": {},
   "outputs": [],
   "source": [
    "def convolution_layer_2(inputs, kernel_size, layer):\n",
    "    '''Makes the Convolution Layer.\n",
    "       Pass: Inputs, Kernel Size as tuple, Layer Number.\n",
    "       Return: Final output'''\n",
    "    pool_1 = tf.keras.layers.MaxPool1D(pool_size=2, padding='same', strides=1, name=f'Pool_{layer}')(inputs) # Max Pooling\n",
    "    conv_1 = tf.keras.layers.Conv1D(filters=32, kernel_size=kernel_size, padding='same', activation='relu', name=f'Conv1D_{layer}_1')(pool_1) # Convolution Layer 1D\n",
    "    bn_1   = tf.keras.layers.BatchNormalization(name=f'BN_{layer}_1')(conv_1)   # Batch Normalisation\n",
    "    conv_2 = tf.keras.layers.Conv1D(filters=32, kernel_size=kernel_size, padding='same', activation='relu', name=f'Conv1D_{layer}_2')(bn_1)   # Convolution Layer 1D\n",
    "    bn_2   = tf.keras.layers.BatchNormalization(name=f'BN_{layer}_2')(conv_2)   # Batch Normalisation\n",
    "    \n",
    "    return bn_2 # Return"
   ]
  },
  {
   "cell_type": "code",
   "execution_count": 67,
   "id": "dd52b9a4",
   "metadata": {},
   "outputs": [],
   "source": [
    "INPUT_LAYER = tf.keras.layers.Input(shape=(trainX_1.shape[1], trainX_1.shape[2]), name='input_layer') # Input\n",
    "CONV_1 = convolution_layer_1(INPUT_LAYER, kernel_size=(1), layer='1') # Convolution Layer 1\n",
    "CONV_2 = convolution_layer_1(INPUT_LAYER, kernel_size=(3), layer='2') # Convolution Layer 2\n",
    "CONV_3 = convolution_layer_1(INPUT_LAYER, kernel_size=(5), layer='3') # Convolution Layer 3\n",
    "CONV_4 = convolution_layer_1(INPUT_LAYER, kernel_size=(7), layer='4') # Convolution Layer 4\n",
    "CONV_5 = convolution_layer_1(INPUT_LAYER, kernel_size=(9), layer='5') # Convolution Layer 5\n",
    "CONV_6 = convolution_layer_2(INPUT_LAYER, kernel_size=(11), layer='6')# Convolution Layer 6\n",
    "CONCATENATE = tf.keras.layers.concatenate([CONV_1, CONV_2, CONV_6], name='Concatenate') # Concatenate Layer\n",
    "GRU_1 = tf.keras.layers.GRU(units=180, return_sequences=True, return_state=True, activation='relu', name='GRU_1')(CONCATENATE) # GRU Unit\n",
    "GRU_2 = tf.keras.layers.GRU(units=180, activation='relu', name='GRU_2')(GRU_1) # GRU Unit\n",
    "DROP = tf.keras.layers.Dropout(0.2, name='Drop_GRU')(GRU_2) # Dropout\n",
    "FLAT = tf.keras.layers.Flatten(name='Flatten')(DROP) # Flatten\n",
    "DENSE_1 = tf.keras.layers.Dense(units=120, activation='relu', name='FCN_1')(FLAT) # Fully Connected Layer\n",
    "DROPOUT = tf.keras.layers.Dropout(0.2, name='Dropout')(DENSE_1) # Dropout\n",
    "DENSE_2 = tf.keras.layers.Dense(units=32, activation='relu', name='FCN_2')(DROPOUT) # Fully Connected Layer\n",
    "WEAR = tf.keras.layers.Dense(units=1, name='Flank_Wear')(DENSE_2)"
   ]
  },
  {
   "cell_type": "code",
   "execution_count": 68,
   "id": "ae0d82c1",
   "metadata": {},
   "outputs": [],
   "source": [
    "model = tf.keras.Model(inputs=INPUT_LAYER, outputs=WEAR, name='Tool_Wear_Predictor')"
   ]
  },
  {
   "cell_type": "code",
   "execution_count": 69,
   "id": "e562f72f",
   "metadata": {
    "scrolled": true
   },
   "outputs": [
    {
     "name": "stdout",
     "output_type": "stream",
     "text": [
      "Model: \"Tool_Wear_Predictor\"\n",
      "__________________________________________________________________________________________________\n",
      "Layer (type)                    Output Shape         Param #     Connected to                     \n",
      "==================================================================================================\n",
      "input_layer (InputLayer)        [(None, 100, 3072)]  0                                            \n",
      "__________________________________________________________________________________________________\n",
      "Conv1D_1_1 (Conv1D)             (None, 100, 32)      98336       input_layer[0][0]                \n",
      "__________________________________________________________________________________________________\n",
      "Conv1D_2_1 (Conv1D)             (None, 100, 32)      294944      input_layer[0][0]                \n",
      "__________________________________________________________________________________________________\n",
      "Pool_6 (MaxPooling1D)           (None, 100, 3072)    0           input_layer[0][0]                \n",
      "__________________________________________________________________________________________________\n",
      "BN_1_1 (BatchNormalization)     (None, 100, 32)      128         Conv1D_1_1[0][0]                 \n",
      "__________________________________________________________________________________________________\n",
      "BN_2_1 (BatchNormalization)     (None, 100, 32)      128         Conv1D_2_1[0][0]                 \n",
      "__________________________________________________________________________________________________\n",
      "Conv1D_6_1 (Conv1D)             (None, 100, 32)      1081376     Pool_6[0][0]                     \n",
      "__________________________________________________________________________________________________\n",
      "Conv1D_1_2 (Conv1D)             (None, 100, 32)      1056        BN_1_1[0][0]                     \n",
      "__________________________________________________________________________________________________\n",
      "Conv1D_2_2 (Conv1D)             (None, 100, 32)      3104        BN_2_1[0][0]                     \n",
      "__________________________________________________________________________________________________\n",
      "BN_6_1 (BatchNormalization)     (None, 100, 32)      128         Conv1D_6_1[0][0]                 \n",
      "__________________________________________________________________________________________________\n",
      "BN_1_2 (BatchNormalization)     (None, 100, 32)      128         Conv1D_1_2[0][0]                 \n",
      "__________________________________________________________________________________________________\n",
      "BN_2_2 (BatchNormalization)     (None, 100, 32)      128         Conv1D_2_2[0][0]                 \n",
      "__________________________________________________________________________________________________\n",
      "Conv1D_6_2 (Conv1D)             (None, 100, 32)      11296       BN_6_1[0][0]                     \n",
      "__________________________________________________________________________________________________\n",
      "Pool_1 (MaxPooling1D)           (None, 100, 32)      0           BN_1_2[0][0]                     \n",
      "__________________________________________________________________________________________________\n",
      "Pool_2 (MaxPooling1D)           (None, 100, 32)      0           BN_2_2[0][0]                     \n",
      "__________________________________________________________________________________________________\n",
      "BN_6_2 (BatchNormalization)     (None, 100, 32)      128         Conv1D_6_2[0][0]                 \n",
      "__________________________________________________________________________________________________\n",
      "Concatenate (Concatenate)       (None, 100, 96)      0           Pool_1[0][0]                     \n",
      "                                                                 Pool_2[0][0]                     \n",
      "                                                                 BN_6_2[0][0]                     \n",
      "__________________________________________________________________________________________________\n",
      "GRU_1 (GRU)                     [(None, 100, 180), ( 150120      Concatenate[0][0]                \n",
      "__________________________________________________________________________________________________\n",
      "GRU_2 (GRU)                     (None, 180)          195480      GRU_1[0][0]                      \n",
      "                                                                 GRU_1[0][1]                      \n",
      "__________________________________________________________________________________________________\n",
      "Drop_GRU (Dropout)              (None, 180)          0           GRU_2[0][0]                      \n",
      "__________________________________________________________________________________________________\n",
      "Flatten (Flatten)               (None, 180)          0           Drop_GRU[0][0]                   \n",
      "__________________________________________________________________________________________________\n",
      "FCN_1 (Dense)                   (None, 120)          21720       Flatten[0][0]                    \n",
      "__________________________________________________________________________________________________\n",
      "Dropout (Dropout)               (None, 120)          0           FCN_1[0][0]                      \n",
      "__________________________________________________________________________________________________\n",
      "FCN_2 (Dense)                   (None, 32)           3872        Dropout[0][0]                    \n",
      "__________________________________________________________________________________________________\n",
      "Flank_Wear (Dense)              (None, 1)            33          FCN_2[0][0]                      \n",
      "==================================================================================================\n",
      "Total params: 1,862,105\n",
      "Trainable params: 1,861,721\n",
      "Non-trainable params: 384\n",
      "__________________________________________________________________________________________________\n"
     ]
    }
   ],
   "source": [
    "model.summary()"
   ]
  },
  {
   "cell_type": "markdown",
   "id": "8c2afdf9",
   "metadata": {},
   "source": [
    "#### Model Compile Parameters"
   ]
  },
  {
   "cell_type": "code",
   "execution_count": 70,
   "id": "b7755a34",
   "metadata": {},
   "outputs": [],
   "source": [
    "optimizer = tf.keras.optimizers.RMSprop(learning_rate=0.001) # Optimizer\n",
    "loss = tf.keras.losses.MeanAbsoluteError() # Custom Loss"
   ]
  },
  {
   "cell_type": "markdown",
   "id": "855f2cca",
   "metadata": {},
   "source": [
    "#### Compile"
   ]
  },
  {
   "cell_type": "code",
   "execution_count": 71,
   "id": "9a2424f6",
   "metadata": {},
   "outputs": [],
   "source": [
    "model.compile(optimizer=optimizer, loss=loss) # Compile"
   ]
  },
  {
   "cell_type": "markdown",
   "id": "ce71e17a",
   "metadata": {},
   "source": [
    "#### Callbacks"
   ]
  },
  {
   "cell_type": "code",
   "execution_count": 72,
   "id": "a767a339",
   "metadata": {},
   "outputs": [],
   "source": [
    "csv_logger = tf.keras.callbacks.CSVLogger('Tool_Wear_Predictor.csv')"
   ]
  },
  {
   "cell_type": "markdown",
   "id": "a2fe6122",
   "metadata": {},
   "source": [
    "#### Fit Model"
   ]
  },
  {
   "cell_type": "code",
   "execution_count": 73,
   "id": "b8ea16b2",
   "metadata": {},
   "outputs": [],
   "source": [
    "epochs=20"
   ]
  },
  {
   "cell_type": "code",
   "execution_count": 80,
   "id": "541834bf",
   "metadata": {
    "scrolled": true
   },
   "outputs": [
    {
     "name": "stdout",
     "output_type": "stream",
     "text": [
      "Epoch 1/20\n",
      "20/20 [==============================] - 34s 676ms/step - loss: 20.8946\n",
      "Epoch 2/20\n",
      "20/20 [==============================] - 11s 565ms/step - loss: 21.4256\n",
      "Epoch 3/20\n",
      "20/20 [==============================] - 11s 558ms/step - loss: 19.8680\n",
      "Epoch 4/20\n",
      "20/20 [==============================] - 11s 560ms/step - loss: 15.8146\n",
      "Epoch 5/20\n",
      "20/20 [==============================] - 11s 550ms/step - loss: 17.6214\n",
      "Epoch 6/20\n",
      "20/20 [==============================] - 11s 555ms/step - loss: 19.1588\n",
      "Epoch 7/20\n",
      "20/20 [==============================] - 11s 557ms/step - loss: 16.7412\n",
      "Epoch 8/20\n",
      "20/20 [==============================] - 11s 555ms/step - loss: 15.5546\n",
      "Epoch 9/20\n",
      "20/20 [==============================] - 11s 560ms/step - loss: 15.8563\n",
      "Epoch 10/20\n",
      "20/20 [==============================] - 11s 566ms/step - loss: 15.9649\n",
      "Epoch 11/20\n",
      "20/20 [==============================] - 11s 549ms/step - loss: 14.3461\n",
      "Epoch 12/20\n",
      "20/20 [==============================] - 11s 547ms/step - loss: 14.9794\n",
      "Epoch 13/20\n",
      "20/20 [==============================] - 11s 548ms/step - loss: 13.7044\n",
      "Epoch 14/20\n",
      "20/20 [==============================] - 11s 548ms/step - loss: 14.5910\n",
      "Epoch 15/20\n",
      "20/20 [==============================] - 11s 552ms/step - loss: 15.7326\n",
      "Epoch 16/20\n",
      "20/20 [==============================] - 11s 552ms/step - loss: 12.7201\n",
      "Epoch 17/20\n",
      "20/20 [==============================] - 11s 548ms/step - loss: 12.7265\n",
      "Epoch 18/20\n",
      "20/20 [==============================] - 11s 559ms/step - loss: 13.7716\n",
      "Epoch 19/20\n",
      "20/20 [==============================] - 12s 578ms/step - loss: 13.9951\n",
      "Epoch 20/20\n",
      "20/20 [==============================] - 11s 570ms/step - loss: 14.0340\n"
     ]
    }
   ],
   "source": [
    "history = model.fit(trainX_1, trainY_1, epochs=epochs, verbose=1, callbacks=[csv_logger], shuffle=True) # Fit Model"
   ]
  },
  {
   "cell_type": "code",
   "execution_count": 81,
   "id": "ae5c0ddf",
   "metadata": {},
   "outputs": [
    {
     "data": {
      "text/html": [
       "<div>\n",
       "<style scoped>\n",
       "    .dataframe tbody tr th:only-of-type {\n",
       "        vertical-align: middle;\n",
       "    }\n",
       "\n",
       "    .dataframe tbody tr th {\n",
       "        vertical-align: top;\n",
       "    }\n",
       "\n",
       "    .dataframe thead th {\n",
       "        text-align: right;\n",
       "    }\n",
       "</style>\n",
       "<table border=\"1\" class=\"dataframe\">\n",
       "  <thead>\n",
       "    <tr style=\"text-align: right;\">\n",
       "      <th></th>\n",
       "      <th>epoch</th>\n",
       "      <th>loss</th>\n",
       "    </tr>\n",
       "  </thead>\n",
       "  <tbody>\n",
       "    <tr>\n",
       "      <th>0</th>\n",
       "      <td>0</td>\n",
       "      <td>20.894617</td>\n",
       "    </tr>\n",
       "    <tr>\n",
       "      <th>1</th>\n",
       "      <td>1</td>\n",
       "      <td>21.425558</td>\n",
       "    </tr>\n",
       "    <tr>\n",
       "      <th>2</th>\n",
       "      <td>2</td>\n",
       "      <td>19.868044</td>\n",
       "    </tr>\n",
       "    <tr>\n",
       "      <th>3</th>\n",
       "      <td>3</td>\n",
       "      <td>15.814641</td>\n",
       "    </tr>\n",
       "    <tr>\n",
       "      <th>4</th>\n",
       "      <td>4</td>\n",
       "      <td>17.621428</td>\n",
       "    </tr>\n",
       "  </tbody>\n",
       "</table>\n",
       "</div>"
      ],
      "text/plain": [
       "   epoch       loss\n",
       "0      0  20.894617\n",
       "1      1  21.425558\n",
       "2      2  19.868044\n",
       "3      3  15.814641\n",
       "4      4  17.621428"
      ]
     },
     "execution_count": 81,
     "metadata": {},
     "output_type": "execute_result"
    }
   ],
   "source": [
    "df = pd.read_csv('Tool_Wear_Predictor.csv')\n",
    "df.head()"
   ]
  },
  {
   "cell_type": "code",
   "execution_count": 82,
   "id": "d5feac05",
   "metadata": {},
   "outputs": [
    {
     "data": {
      "image/png": "[encoded data removed]",
      "text/plain": [
       "<Figure size 864x360 with 1 Axes>"
      ]
     },
     "metadata": {
      "needs_background": "light"
     },
     "output_type": "display_data"
    }
   ],
   "source": [
    "def plot(history, string):\n",
    "    plt.figure(figsize = (12,5))                                                                                                                                                                                                                                                                                                                                                                                                                                                                                                                                                                                                                                                                                                                                                                                                                                                                                                                                                                                                                                                                                                                                                                                                                                                                                                                                                                                                                                                                                                                                                                                                                                                                                                                                                                                                                                                                                                                                                                                                                                                                                                                                                                                                                                                                                                                                                                                                                                                                                                                                                                                                                                                                                                                                                                                                                                                                                                                                                                                                                                                                                                                                                                                                                                                                                                                                                                                                                                                                                                                                                                                                                                                                                                                                                                                                                                                                                                                                                                                                                                                                                                                                                                                                                                                                                                                                                                                                                                                                                                                                                                                                                                                                                                                                                                                                                                                                                                                                                                                                                                                                                                                                                                                                        \n",
    "    plt.plot(history[string], label = string.capitalize())\n",
    "#     plt.plot(history['val_'+string], label = 'val_'+string)\n",
    "    plt.legend()\n",
    "    plt.grid(True)\n",
    "    plt.xlabel('Epochs', fontdict={'fontsize':14})\n",
    "    plt.ylabel(string.capitalize(), fontdict={'fontsize':14})\n",
    "    plt.title(f'Epochs v/s {string.capitalize()}', fontdict={'fontsize':18})\n",
    "    plt.show()\n",
    "\n",
    "# Call\n",
    "plot(df, 'loss')"
   ]
  },
  {
   "cell_type": "markdown",
   "id": "daac26bc",
   "metadata": {},
   "source": [
    "#### Evaluate"
   ]
  },
  {
   "cell_type": "code",
   "execution_count": 83,
   "id": "8dd45874",
   "metadata": {},
   "outputs": [
    {
     "name": "stdout",
     "output_type": "stream",
     "text": [
      "10/10 [==============================] - 2s 185ms/step - loss: 34.3313\n"
     ]
    }
   ],
   "source": [
    "evaluate = model.evaluate(testX_1, testY_1, verbose=1) # Evaluate"
   ]
  },
  {
   "cell_type": "markdown",
   "id": "d8cf6001",
   "metadata": {},
   "source": [
    "#### Predition"
   ]
  },
  {
   "cell_type": "code",
   "execution_count": 86,
   "id": "9ecced18",
   "metadata": {},
   "outputs": [
    {
     "name": "stdout",
     "output_type": "stream",
     "text": [
      "10/10 [==============================] - 2s 185ms/step\n"
     ]
    }
   ],
   "source": [
    "y_pred = model.predict(testX_2, verbose=1) # Evaluate"
   ]
  },
  {
   "cell_type": "code",
   "execution_count": 88,
   "id": "2209f895",
   "metadata": {},
   "outputs": [
    {
     "data": {
      "image/png": "[encoded data removed]",
      "text/plain": [
       "<Figure size 1296x576 with 1 Axes>"
      ]
     },
     "metadata": {
      "needs_background": "light"
     },
     "output_type": "display_data"
    }
   ],
   "source": [
    "# Plot True RUL v/s Predicted RUL\n",
    "def plot_prediction():\n",
    "    plt.figure(figsize = (18, 8))\n",
    "    plt.plot(testY_2, 'red', label = 'True', linewidth=2)\n",
    "    plt.plot(y_pred, 'green', label = 'Predicted', linestyle='-', linewidth=1)\n",
    "    plt.xlabel('Split Test Set Numbers', fontdict={'fontsize':14})\n",
    "    plt.ylabel('Wear in microns', fontdict={'fontsize':14})\n",
    "    plt.title(' Cut v/s Wear (True v/s Predicted)', fontdict={'fontsize':18})\n",
    "    plt.legend()\n",
    "    plt.grid(True)\n",
    "    plt.show()\n",
    "    return None\n",
    "\n",
    "# Call\n",
    "plot_prediction()"
   ]
  },
  {
   "cell_type": "code",
   "execution_count": null,
   "id": "14dade7f",
   "metadata": {},
   "outputs": [],
   "source": []
  }
 ],
 "metadata": {
  "kernelspec": {
   "display_name": "Python 3 (ipykernel)",
   "language": "python",
   "name": "python3"
  },
  "language_info": {
   "codemirror_mode": {
    "name": "ipython",
    "version": 3
   },
   "file_extension": ".py",
   "mimetype": "text/x-python",
   "name": "python",
   "nbconvert_exporter": "python",
   "pygments_lexer": "ipython3",
   "version": "3.8.11"
  }
 },
 "nbformat": 4,
 "nbformat_minor": 5
}
